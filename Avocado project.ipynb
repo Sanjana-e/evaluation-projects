{
 "cells": [
  {
   "cell_type": "code",
   "execution_count": 36,
   "metadata": {},
   "outputs": [],
   "source": [
    "import numpy as np \n",
    "import pandas as pd\n",
    "import seaborn as sns\n",
    "from pandas_profiling import ProfileReport\n",
    "\n",
    "import matplotlib \n",
    "from matplotlib import pyplot as plt\n",
    "from matplotlib import style\n",
    "\n",
    "# Algorithms\n",
    "\n",
    "from sklearn import linear_model\n",
    "from sklearn.linear_model import LinearRegression\n",
    "from sklearn.ensemble import RandomForestRegressor\n",
    "from sklearn.linear_model import Ridge\n",
    "from sklearn.linear_model import Lasso\n",
    "from sklearn.tree import DecisionTreeRegressor\n",
    "from sklearn.neighbors import KNeighborsRegressor\n",
    "from sklearn.svm import SVR,SVC\n",
    "from sklearn.naive_bayes import GaussianNB\n",
    "from sklearn.ensemble import RandomForestRegressor,AdaBoostRegressor, ExtraTreesRegressor, GradientBoostingRegressor\n",
    "\n",
    "\n",
    "from sklearn import linear_model\n",
    "from sklearn.linear_model import LogisticRegression\n",
    "from sklearn.ensemble import RandomForestClassifier\n",
    "from sklearn.tree import DecisionTreeClassifier\n",
    "from sklearn.neighbors import KNeighborsClassifier\n",
    "from sklearn.ensemble import AdaBoostClassifier,GradientBoostingClassifier,BaggingClassifier,ExtraTreesClassifier,RandomForestClassifier"
   ]
  },
  {
   "cell_type": "code",
   "execution_count": 37,
   "metadata": {},
   "outputs": [],
   "source": [
    "url=\"avocado.csv\""
   ]
  },
  {
   "cell_type": "code",
   "execution_count": 38,
   "metadata": {},
   "outputs": [
    {
     "data": {
      "text/html": [
       "<div>\n",
       "<style scoped>\n",
       "    .dataframe tbody tr th:only-of-type {\n",
       "        vertical-align: middle;\n",
       "    }\n",
       "\n",
       "    .dataframe tbody tr th {\n",
       "        vertical-align: top;\n",
       "    }\n",
       "\n",
       "    .dataframe thead th {\n",
       "        text-align: right;\n",
       "    }\n",
       "</style>\n",
       "<table border=\"1\" class=\"dataframe\">\n",
       "  <thead>\n",
       "    <tr style=\"text-align: right;\">\n",
       "      <th></th>\n",
       "      <th>Unnamed: 0</th>\n",
       "      <th>Date</th>\n",
       "      <th>AveragePrice</th>\n",
       "      <th>Total Volume</th>\n",
       "      <th>4046</th>\n",
       "      <th>4225</th>\n",
       "      <th>4770</th>\n",
       "      <th>Total Bags</th>\n",
       "      <th>Small Bags</th>\n",
       "      <th>Large Bags</th>\n",
       "      <th>XLarge Bags</th>\n",
       "      <th>type</th>\n",
       "      <th>year</th>\n",
       "      <th>region</th>\n",
       "    </tr>\n",
       "  </thead>\n",
       "  <tbody>\n",
       "    <tr>\n",
       "      <th>0</th>\n",
       "      <td>0</td>\n",
       "      <td>2015-12-27</td>\n",
       "      <td>1.33</td>\n",
       "      <td>64236.62</td>\n",
       "      <td>1036.74</td>\n",
       "      <td>54454.85</td>\n",
       "      <td>48.16</td>\n",
       "      <td>8696.87</td>\n",
       "      <td>8603.62</td>\n",
       "      <td>93.25</td>\n",
       "      <td>0.0</td>\n",
       "      <td>conventional</td>\n",
       "      <td>2015</td>\n",
       "      <td>Albany</td>\n",
       "    </tr>\n",
       "    <tr>\n",
       "      <th>1</th>\n",
       "      <td>1</td>\n",
       "      <td>2015-12-20</td>\n",
       "      <td>1.35</td>\n",
       "      <td>54876.98</td>\n",
       "      <td>674.28</td>\n",
       "      <td>44638.81</td>\n",
       "      <td>58.33</td>\n",
       "      <td>9505.56</td>\n",
       "      <td>9408.07</td>\n",
       "      <td>97.49</td>\n",
       "      <td>0.0</td>\n",
       "      <td>conventional</td>\n",
       "      <td>2015</td>\n",
       "      <td>Albany</td>\n",
       "    </tr>\n",
       "    <tr>\n",
       "      <th>2</th>\n",
       "      <td>2</td>\n",
       "      <td>2015-12-13</td>\n",
       "      <td>0.93</td>\n",
       "      <td>118220.22</td>\n",
       "      <td>794.70</td>\n",
       "      <td>109149.67</td>\n",
       "      <td>130.50</td>\n",
       "      <td>8145.35</td>\n",
       "      <td>8042.21</td>\n",
       "      <td>103.14</td>\n",
       "      <td>0.0</td>\n",
       "      <td>conventional</td>\n",
       "      <td>2015</td>\n",
       "      <td>Albany</td>\n",
       "    </tr>\n",
       "    <tr>\n",
       "      <th>3</th>\n",
       "      <td>3</td>\n",
       "      <td>2015-12-06</td>\n",
       "      <td>1.08</td>\n",
       "      <td>78992.15</td>\n",
       "      <td>1132.00</td>\n",
       "      <td>71976.41</td>\n",
       "      <td>72.58</td>\n",
       "      <td>5811.16</td>\n",
       "      <td>5677.40</td>\n",
       "      <td>133.76</td>\n",
       "      <td>0.0</td>\n",
       "      <td>conventional</td>\n",
       "      <td>2015</td>\n",
       "      <td>Albany</td>\n",
       "    </tr>\n",
       "    <tr>\n",
       "      <th>4</th>\n",
       "      <td>4</td>\n",
       "      <td>2015-11-29</td>\n",
       "      <td>1.28</td>\n",
       "      <td>51039.60</td>\n",
       "      <td>941.48</td>\n",
       "      <td>43838.39</td>\n",
       "      <td>75.78</td>\n",
       "      <td>6183.95</td>\n",
       "      <td>5986.26</td>\n",
       "      <td>197.69</td>\n",
       "      <td>0.0</td>\n",
       "      <td>conventional</td>\n",
       "      <td>2015</td>\n",
       "      <td>Albany</td>\n",
       "    </tr>\n",
       "    <tr>\n",
       "      <th>...</th>\n",
       "      <td>...</td>\n",
       "      <td>...</td>\n",
       "      <td>...</td>\n",
       "      <td>...</td>\n",
       "      <td>...</td>\n",
       "      <td>...</td>\n",
       "      <td>...</td>\n",
       "      <td>...</td>\n",
       "      <td>...</td>\n",
       "      <td>...</td>\n",
       "      <td>...</td>\n",
       "      <td>...</td>\n",
       "      <td>...</td>\n",
       "      <td>...</td>\n",
       "    </tr>\n",
       "    <tr>\n",
       "      <th>18244</th>\n",
       "      <td>7</td>\n",
       "      <td>2018-02-04</td>\n",
       "      <td>1.63</td>\n",
       "      <td>17074.83</td>\n",
       "      <td>2046.96</td>\n",
       "      <td>1529.20</td>\n",
       "      <td>0.00</td>\n",
       "      <td>13498.67</td>\n",
       "      <td>13066.82</td>\n",
       "      <td>431.85</td>\n",
       "      <td>0.0</td>\n",
       "      <td>organic</td>\n",
       "      <td>2018</td>\n",
       "      <td>WestTexNewMexico</td>\n",
       "    </tr>\n",
       "    <tr>\n",
       "      <th>18245</th>\n",
       "      <td>8</td>\n",
       "      <td>2018-01-28</td>\n",
       "      <td>1.71</td>\n",
       "      <td>13888.04</td>\n",
       "      <td>1191.70</td>\n",
       "      <td>3431.50</td>\n",
       "      <td>0.00</td>\n",
       "      <td>9264.84</td>\n",
       "      <td>8940.04</td>\n",
       "      <td>324.80</td>\n",
       "      <td>0.0</td>\n",
       "      <td>organic</td>\n",
       "      <td>2018</td>\n",
       "      <td>WestTexNewMexico</td>\n",
       "    </tr>\n",
       "    <tr>\n",
       "      <th>18246</th>\n",
       "      <td>9</td>\n",
       "      <td>2018-01-21</td>\n",
       "      <td>1.87</td>\n",
       "      <td>13766.76</td>\n",
       "      <td>1191.92</td>\n",
       "      <td>2452.79</td>\n",
       "      <td>727.94</td>\n",
       "      <td>9394.11</td>\n",
       "      <td>9351.80</td>\n",
       "      <td>42.31</td>\n",
       "      <td>0.0</td>\n",
       "      <td>organic</td>\n",
       "      <td>2018</td>\n",
       "      <td>WestTexNewMexico</td>\n",
       "    </tr>\n",
       "    <tr>\n",
       "      <th>18247</th>\n",
       "      <td>10</td>\n",
       "      <td>2018-01-14</td>\n",
       "      <td>1.93</td>\n",
       "      <td>16205.22</td>\n",
       "      <td>1527.63</td>\n",
       "      <td>2981.04</td>\n",
       "      <td>727.01</td>\n",
       "      <td>10969.54</td>\n",
       "      <td>10919.54</td>\n",
       "      <td>50.00</td>\n",
       "      <td>0.0</td>\n",
       "      <td>organic</td>\n",
       "      <td>2018</td>\n",
       "      <td>WestTexNewMexico</td>\n",
       "    </tr>\n",
       "    <tr>\n",
       "      <th>18248</th>\n",
       "      <td>11</td>\n",
       "      <td>2018-01-07</td>\n",
       "      <td>1.62</td>\n",
       "      <td>17489.58</td>\n",
       "      <td>2894.77</td>\n",
       "      <td>2356.13</td>\n",
       "      <td>224.53</td>\n",
       "      <td>12014.15</td>\n",
       "      <td>11988.14</td>\n",
       "      <td>26.01</td>\n",
       "      <td>0.0</td>\n",
       "      <td>organic</td>\n",
       "      <td>2018</td>\n",
       "      <td>WestTexNewMexico</td>\n",
       "    </tr>\n",
       "  </tbody>\n",
       "</table>\n",
       "<p>18249 rows × 14 columns</p>\n",
       "</div>"
      ],
      "text/plain": [
       "       Unnamed: 0        Date  AveragePrice  Total Volume     4046       4225  \\\n",
       "0               0  2015-12-27          1.33      64236.62  1036.74   54454.85   \n",
       "1               1  2015-12-20          1.35      54876.98   674.28   44638.81   \n",
       "2               2  2015-12-13          0.93     118220.22   794.70  109149.67   \n",
       "3               3  2015-12-06          1.08      78992.15  1132.00   71976.41   \n",
       "4               4  2015-11-29          1.28      51039.60   941.48   43838.39   \n",
       "...           ...         ...           ...           ...      ...        ...   \n",
       "18244           7  2018-02-04          1.63      17074.83  2046.96    1529.20   \n",
       "18245           8  2018-01-28          1.71      13888.04  1191.70    3431.50   \n",
       "18246           9  2018-01-21          1.87      13766.76  1191.92    2452.79   \n",
       "18247          10  2018-01-14          1.93      16205.22  1527.63    2981.04   \n",
       "18248          11  2018-01-07          1.62      17489.58  2894.77    2356.13   \n",
       "\n",
       "         4770  Total Bags  Small Bags  Large Bags  XLarge Bags          type  \\\n",
       "0       48.16     8696.87     8603.62       93.25          0.0  conventional   \n",
       "1       58.33     9505.56     9408.07       97.49          0.0  conventional   \n",
       "2      130.50     8145.35     8042.21      103.14          0.0  conventional   \n",
       "3       72.58     5811.16     5677.40      133.76          0.0  conventional   \n",
       "4       75.78     6183.95     5986.26      197.69          0.0  conventional   \n",
       "...       ...         ...         ...         ...          ...           ...   \n",
       "18244    0.00    13498.67    13066.82      431.85          0.0       organic   \n",
       "18245    0.00     9264.84     8940.04      324.80          0.0       organic   \n",
       "18246  727.94     9394.11     9351.80       42.31          0.0       organic   \n",
       "18247  727.01    10969.54    10919.54       50.00          0.0       organic   \n",
       "18248  224.53    12014.15    11988.14       26.01          0.0       organic   \n",
       "\n",
       "       year            region  \n",
       "0      2015            Albany  \n",
       "1      2015            Albany  \n",
       "2      2015            Albany  \n",
       "3      2015            Albany  \n",
       "4      2015            Albany  \n",
       "...     ...               ...  \n",
       "18244  2018  WestTexNewMexico  \n",
       "18245  2018  WestTexNewMexico  \n",
       "18246  2018  WestTexNewMexico  \n",
       "18247  2018  WestTexNewMexico  \n",
       "18248  2018  WestTexNewMexico  \n",
       "\n",
       "[18249 rows x 14 columns]"
      ]
     },
     "execution_count": 38,
     "metadata": {},
     "output_type": "execute_result"
    }
   ],
   "source": [
    "df=pd.read_csv(url,sep=\",\")\n",
    "df"
   ]
  },
  {
   "cell_type": "code",
   "execution_count": 40,
   "metadata": {},
   "outputs": [],
   "source": [
    "df.drop(\"Unnamed: 0\",axis=1,inplace=True)"
   ]
  },
  {
   "cell_type": "code",
   "execution_count": 41,
   "metadata": {},
   "outputs": [
    {
     "name": "stdout",
     "output_type": "stream",
     "text": [
      "<class 'pandas.core.frame.DataFrame'>\n",
      "Int64Index: 18249 entries, 0 to 18248\n",
      "Data columns (total 13 columns):\n",
      " #   Column        Non-Null Count  Dtype  \n",
      "---  ------        --------------  -----  \n",
      " 0   Date          18249 non-null  object \n",
      " 1   AveragePrice  18249 non-null  float64\n",
      " 2   Total Volume  18249 non-null  float64\n",
      " 3   4046          18249 non-null  float64\n",
      " 4   4225          18249 non-null  float64\n",
      " 5   4770          18249 non-null  float64\n",
      " 6   Total Bags    18249 non-null  float64\n",
      " 7   Small Bags    18249 non-null  float64\n",
      " 8   Large Bags    18249 non-null  float64\n",
      " 9   XLarge Bags   18249 non-null  float64\n",
      " 10  type          18249 non-null  object \n",
      " 11  year          18249 non-null  int64  \n",
      " 12  region        18249 non-null  object \n",
      "dtypes: float64(9), int64(1), object(3)\n",
      "memory usage: 1.9+ MB\n"
     ]
    }
   ],
   "source": [
    "df.info()"
   ]
  },
  {
   "cell_type": "code",
   "execution_count": 39,
   "metadata": {},
   "outputs": [],
   "source": [
    "df.dropna(axis=0,inplace=True)"
   ]
  },
  {
   "cell_type": "code",
   "execution_count": 22,
   "metadata": {},
   "outputs": [
    {
     "name": "stdout",
     "output_type": "stream",
     "text": [
      "<class 'pandas.core.frame.DataFrame'>\n",
      "Int64Index: 18249 entries, 0 to 18248\n",
      "Data columns (total 13 columns):\n",
      " #   Column        Non-Null Count  Dtype  \n",
      "---  ------        --------------  -----  \n",
      " 0   Date          18249 non-null  object \n",
      " 1   AveragePrice  18249 non-null  float64\n",
      " 2   Total Volume  18249 non-null  float64\n",
      " 3   4046          18249 non-null  float64\n",
      " 4   4225          18249 non-null  float64\n",
      " 5   4770          18249 non-null  float64\n",
      " 6   Total Bags    18249 non-null  float64\n",
      " 7   Small Bags    18249 non-null  float64\n",
      " 8   Large Bags    18249 non-null  float64\n",
      " 9   XLarge Bags   18249 non-null  float64\n",
      " 10  type          18249 non-null  object \n",
      " 11  year          18249 non-null  int64  \n",
      " 12  region        18249 non-null  object \n",
      "dtypes: float64(9), int64(1), object(3)\n",
      "memory usage: 1.9+ MB\n"
     ]
    }
   ],
   "source": [
    "df.info()"
   ]
  },
  {
   "cell_type": "code",
   "execution_count": 42,
   "metadata": {},
   "outputs": [],
   "source": [
    "#Changing Data types \n",
    "df[\"Date\"]= pd.to_datetime(df[\"Date\"])"
   ]
  },
  {
   "cell_type": "code",
   "execution_count": 43,
   "metadata": {},
   "outputs": [
    {
     "name": "stdout",
     "output_type": "stream",
     "text": [
      "\n",
      "Total No of Regions that the Avacado is brought from: 54\n",
      "\n",
      "['Albany' 'Atlanta' 'BaltimoreWashington' 'Boise' 'Boston'\n",
      " 'BuffaloRochester' 'California' 'Charlotte' 'Chicago' 'CincinnatiDayton'\n",
      " 'Columbus' 'DallasFtWorth' 'Denver' 'Detroit' 'GrandRapids' 'GreatLakes'\n",
      " 'HarrisburgScranton' 'HartfordSpringfield' 'Houston' 'Indianapolis'\n",
      " 'Jacksonville' 'LasVegas' 'LosAngeles' 'Louisville' 'MiamiFtLauderdale'\n",
      " 'Midsouth' 'Nashville' 'NewOrleansMobile' 'NewYork' 'Northeast'\n",
      " 'NorthernNewEngland' 'Orlando' 'Philadelphia' 'PhoenixTucson'\n",
      " 'Pittsburgh' 'Plains' 'Portland' 'RaleighGreensboro' 'RichmondNorfolk'\n",
      " 'Roanoke' 'Sacramento' 'SanDiego' 'SanFrancisco' 'Seattle'\n",
      " 'SouthCarolina' 'SouthCentral' 'Southeast' 'Spokane' 'StLouis' 'Syracuse'\n",
      " 'Tampa' 'TotalUS' 'West' 'WestTexNewMexico']\n"
     ]
    },
    {
     "data": {
      "text/plain": [
       "PhoenixTucson          338\n",
       "SanFrancisco           338\n",
       "Midsouth               338\n",
       "Atlanta                338\n",
       "LosAngeles             338\n",
       "SouthCarolina          338\n",
       "RaleighGreensboro      338\n",
       "HarrisburgScranton     338\n",
       "Portland               338\n",
       "Sacramento             338\n",
       "Boise                  338\n",
       "Southeast              338\n",
       "Plains                 338\n",
       "Indianapolis           338\n",
       "NorthernNewEngland     338\n",
       "Columbus               338\n",
       "DallasFtWorth          338\n",
       "GrandRapids            338\n",
       "TotalUS                338\n",
       "CincinnatiDayton       338\n",
       "BaltimoreWashington    338\n",
       "Detroit                338\n",
       "HartfordSpringfield    338\n",
       "Northeast              338\n",
       "SouthCentral           338\n",
       "StLouis                338\n",
       "NewYork                338\n",
       "Syracuse               338\n",
       "MiamiFtLauderdale      338\n",
       "Nashville              338\n",
       "Roanoke                338\n",
       "Tampa                  338\n",
       "Jacksonville           338\n",
       "Charlotte              338\n",
       "Boston                 338\n",
       "Seattle                338\n",
       "SanDiego               338\n",
       "LasVegas               338\n",
       "RichmondNorfolk        338\n",
       "Albany                 338\n",
       "Houston                338\n",
       "Louisville             338\n",
       "Denver                 338\n",
       "NewOrleansMobile       338\n",
       "GreatLakes             338\n",
       "California             338\n",
       "Chicago                338\n",
       "Orlando                338\n",
       "Philadelphia           338\n",
       "Pittsburgh             338\n",
       "Spokane                338\n",
       "BuffaloRochester       338\n",
       "West                   338\n",
       "WestTexNewMexico       335\n",
       "Name: region, dtype: int64"
      ]
     },
     "execution_count": 43,
     "metadata": {},
     "output_type": "execute_result"
    }
   ],
   "source": [
    "print('\\n'\"Total No of Regions that the Avacado is brought from:\",len(df['region'].unique()),end='\\n\\n')\n",
    "print(df['region'].unique())\n",
    "df['region'].value_counts()"
   ]
  },
  {
   "cell_type": "code",
   "execution_count": 44,
   "metadata": {
    "scrolled": true
   },
   "outputs": [
    {
     "data": {
      "text/html": [
       "<div>\n",
       "<style scoped>\n",
       "    .dataframe tbody tr th:only-of-type {\n",
       "        vertical-align: middle;\n",
       "    }\n",
       "\n",
       "    .dataframe tbody tr th {\n",
       "        vertical-align: top;\n",
       "    }\n",
       "\n",
       "    .dataframe thead th {\n",
       "        text-align: right;\n",
       "    }\n",
       "</style>\n",
       "<table border=\"1\" class=\"dataframe\">\n",
       "  <thead>\n",
       "    <tr style=\"text-align: right;\">\n",
       "      <th></th>\n",
       "      <th>Date</th>\n",
       "      <th>AveragePrice</th>\n",
       "      <th>Total Volume</th>\n",
       "      <th>4046</th>\n",
       "      <th>4225</th>\n",
       "      <th>4770</th>\n",
       "      <th>Total Bags</th>\n",
       "      <th>Small Bags</th>\n",
       "      <th>Large Bags</th>\n",
       "      <th>XLarge Bags</th>\n",
       "      <th>type</th>\n",
       "      <th>year</th>\n",
       "      <th>region</th>\n",
       "    </tr>\n",
       "  </thead>\n",
       "  <tbody>\n",
       "    <tr>\n",
       "      <th>2652</th>\n",
       "      <td>2015-12-27</td>\n",
       "      <td>0.95</td>\n",
       "      <td>27297983.67</td>\n",
       "      <td>9626901.09</td>\n",
       "      <td>10197890.05</td>\n",
       "      <td>1184340.09</td>\n",
       "      <td>6288852.44</td>\n",
       "      <td>4850404.09</td>\n",
       "      <td>1252626.31</td>\n",
       "      <td>185822.04</td>\n",
       "      <td>conventional</td>\n",
       "      <td>2015</td>\n",
       "      <td>TotalUS</td>\n",
       "    </tr>\n",
       "    <tr>\n",
       "      <th>2653</th>\n",
       "      <td>2015-12-20</td>\n",
       "      <td>0.98</td>\n",
       "      <td>25083647.17</td>\n",
       "      <td>8710021.76</td>\n",
       "      <td>9329861.85</td>\n",
       "      <td>1201020.01</td>\n",
       "      <td>5842743.55</td>\n",
       "      <td>4618389.66</td>\n",
       "      <td>1025048.77</td>\n",
       "      <td>199305.12</td>\n",
       "      <td>conventional</td>\n",
       "      <td>2015</td>\n",
       "      <td>TotalUS</td>\n",
       "    </tr>\n",
       "    <tr>\n",
       "      <th>2654</th>\n",
       "      <td>2015-12-13</td>\n",
       "      <td>0.93</td>\n",
       "      <td>28041335.38</td>\n",
       "      <td>9855053.66</td>\n",
       "      <td>10805838.91</td>\n",
       "      <td>1016163.17</td>\n",
       "      <td>6364279.64</td>\n",
       "      <td>4964462.13</td>\n",
       "      <td>1371440.28</td>\n",
       "      <td>28377.23</td>\n",
       "      <td>conventional</td>\n",
       "      <td>2015</td>\n",
       "      <td>TotalUS</td>\n",
       "    </tr>\n",
       "    <tr>\n",
       "      <th>2655</th>\n",
       "      <td>2015-12-06</td>\n",
       "      <td>0.89</td>\n",
       "      <td>28800396.57</td>\n",
       "      <td>9405464.36</td>\n",
       "      <td>12160838.62</td>\n",
       "      <td>931830.63</td>\n",
       "      <td>6302262.96</td>\n",
       "      <td>5005077.36</td>\n",
       "      <td>1233956.21</td>\n",
       "      <td>63229.39</td>\n",
       "      <td>conventional</td>\n",
       "      <td>2015</td>\n",
       "      <td>TotalUS</td>\n",
       "    </tr>\n",
       "    <tr>\n",
       "      <th>2656</th>\n",
       "      <td>2015-11-29</td>\n",
       "      <td>0.99</td>\n",
       "      <td>22617999.38</td>\n",
       "      <td>8094803.56</td>\n",
       "      <td>9003178.41</td>\n",
       "      <td>731008.41</td>\n",
       "      <td>4789009.00</td>\n",
       "      <td>3901953.04</td>\n",
       "      <td>856560.34</td>\n",
       "      <td>30495.62</td>\n",
       "      <td>conventional</td>\n",
       "      <td>2015</td>\n",
       "      <td>TotalUS</td>\n",
       "    </tr>\n",
       "    <tr>\n",
       "      <th>...</th>\n",
       "      <td>...</td>\n",
       "      <td>...</td>\n",
       "      <td>...</td>\n",
       "      <td>...</td>\n",
       "      <td>...</td>\n",
       "      <td>...</td>\n",
       "      <td>...</td>\n",
       "      <td>...</td>\n",
       "      <td>...</td>\n",
       "      <td>...</td>\n",
       "      <td>...</td>\n",
       "      <td>...</td>\n",
       "      <td>...</td>\n",
       "    </tr>\n",
       "    <tr>\n",
       "      <th>18220</th>\n",
       "      <td>2018-02-04</td>\n",
       "      <td>1.53</td>\n",
       "      <td>1384683.41</td>\n",
       "      <td>117922.52</td>\n",
       "      <td>287724.61</td>\n",
       "      <td>1703.52</td>\n",
       "      <td>977084.84</td>\n",
       "      <td>774695.74</td>\n",
       "      <td>201878.69</td>\n",
       "      <td>510.41</td>\n",
       "      <td>organic</td>\n",
       "      <td>2018</td>\n",
       "      <td>TotalUS</td>\n",
       "    </tr>\n",
       "    <tr>\n",
       "      <th>18221</th>\n",
       "      <td>2018-01-28</td>\n",
       "      <td>1.61</td>\n",
       "      <td>1336979.09</td>\n",
       "      <td>118616.17</td>\n",
       "      <td>280080.34</td>\n",
       "      <td>1270.61</td>\n",
       "      <td>936859.49</td>\n",
       "      <td>796104.27</td>\n",
       "      <td>140652.84</td>\n",
       "      <td>102.38</td>\n",
       "      <td>organic</td>\n",
       "      <td>2018</td>\n",
       "      <td>TotalUS</td>\n",
       "    </tr>\n",
       "    <tr>\n",
       "      <th>18222</th>\n",
       "      <td>2018-01-21</td>\n",
       "      <td>1.63</td>\n",
       "      <td>1283987.65</td>\n",
       "      <td>108705.28</td>\n",
       "      <td>259172.13</td>\n",
       "      <td>1490.02</td>\n",
       "      <td>914409.26</td>\n",
       "      <td>710654.40</td>\n",
       "      <td>203526.59</td>\n",
       "      <td>228.27</td>\n",
       "      <td>organic</td>\n",
       "      <td>2018</td>\n",
       "      <td>TotalUS</td>\n",
       "    </tr>\n",
       "    <tr>\n",
       "      <th>18223</th>\n",
       "      <td>2018-01-14</td>\n",
       "      <td>1.59</td>\n",
       "      <td>1476651.08</td>\n",
       "      <td>145680.62</td>\n",
       "      <td>323669.83</td>\n",
       "      <td>1580.01</td>\n",
       "      <td>1005593.78</td>\n",
       "      <td>858772.69</td>\n",
       "      <td>146808.97</td>\n",
       "      <td>12.12</td>\n",
       "      <td>organic</td>\n",
       "      <td>2018</td>\n",
       "      <td>TotalUS</td>\n",
       "    </tr>\n",
       "    <tr>\n",
       "      <th>18224</th>\n",
       "      <td>2018-01-07</td>\n",
       "      <td>1.51</td>\n",
       "      <td>1517332.70</td>\n",
       "      <td>129541.43</td>\n",
       "      <td>296490.29</td>\n",
       "      <td>1289.07</td>\n",
       "      <td>1089861.24</td>\n",
       "      <td>915452.78</td>\n",
       "      <td>174381.57</td>\n",
       "      <td>26.89</td>\n",
       "      <td>organic</td>\n",
       "      <td>2018</td>\n",
       "      <td>TotalUS</td>\n",
       "    </tr>\n",
       "  </tbody>\n",
       "</table>\n",
       "<p>338 rows × 13 columns</p>\n",
       "</div>"
      ],
      "text/plain": [
       "            Date  AveragePrice  Total Volume        4046         4225  \\\n",
       "2652  2015-12-27          0.95   27297983.67  9626901.09  10197890.05   \n",
       "2653  2015-12-20          0.98   25083647.17  8710021.76   9329861.85   \n",
       "2654  2015-12-13          0.93   28041335.38  9855053.66  10805838.91   \n",
       "2655  2015-12-06          0.89   28800396.57  9405464.36  12160838.62   \n",
       "2656  2015-11-29          0.99   22617999.38  8094803.56   9003178.41   \n",
       "...          ...           ...           ...         ...          ...   \n",
       "18220 2018-02-04          1.53    1384683.41   117922.52    287724.61   \n",
       "18221 2018-01-28          1.61    1336979.09   118616.17    280080.34   \n",
       "18222 2018-01-21          1.63    1283987.65   108705.28    259172.13   \n",
       "18223 2018-01-14          1.59    1476651.08   145680.62    323669.83   \n",
       "18224 2018-01-07          1.51    1517332.70   129541.43    296490.29   \n",
       "\n",
       "             4770  Total Bags  Small Bags  Large Bags  XLarge Bags  \\\n",
       "2652   1184340.09  6288852.44  4850404.09  1252626.31    185822.04   \n",
       "2653   1201020.01  5842743.55  4618389.66  1025048.77    199305.12   \n",
       "2654   1016163.17  6364279.64  4964462.13  1371440.28     28377.23   \n",
       "2655    931830.63  6302262.96  5005077.36  1233956.21     63229.39   \n",
       "2656    731008.41  4789009.00  3901953.04   856560.34     30495.62   \n",
       "...           ...         ...         ...         ...          ...   \n",
       "18220     1703.52   977084.84   774695.74   201878.69       510.41   \n",
       "18221     1270.61   936859.49   796104.27   140652.84       102.38   \n",
       "18222     1490.02   914409.26   710654.40   203526.59       228.27   \n",
       "18223     1580.01  1005593.78   858772.69   146808.97        12.12   \n",
       "18224     1289.07  1089861.24   915452.78   174381.57        26.89   \n",
       "\n",
       "               type  year   region  \n",
       "2652   conventional  2015  TotalUS  \n",
       "2653   conventional  2015  TotalUS  \n",
       "2654   conventional  2015  TotalUS  \n",
       "2655   conventional  2015  TotalUS  \n",
       "2656   conventional  2015  TotalUS  \n",
       "...             ...   ...      ...  \n",
       "18220       organic  2018  TotalUS  \n",
       "18221       organic  2018  TotalUS  \n",
       "18222       organic  2018  TotalUS  \n",
       "18223       organic  2018  TotalUS  \n",
       "18224       organic  2018  TotalUS  \n",
       "\n",
       "[338 rows x 13 columns]"
      ]
     },
     "execution_count": 44,
     "metadata": {},
     "output_type": "execute_result"
    }
   ],
   "source": [
    "df[df[\"region\"]== \"TotalUS\"]"
   ]
  },
  {
   "cell_type": "code",
   "execution_count": 45,
   "metadata": {},
   "outputs": [
    {
     "name": "stdout",
     "output_type": "stream",
     "text": [
      "(17911, 13)\n"
     ]
    }
   ],
   "source": [
    "#\"Total US\" gives a wrong measue of the data, as it sums up the data so it is better to dropped \n",
    "df.drop(df[df['region'] == \"TotalUS\"].index, inplace = True) \n",
    "# Print the shape of the dataframe \n",
    "print(df.shape)"
   ]
  },
  {
   "cell_type": "markdown",
   "metadata": {},
   "source": [
    "From the availabe Data we can understand the follwing\n",
    "\n",
    "The dataset contains the data of Years 2015 and 2016\n",
    "\n",
    "This Data is Recoreded from 2015-01-02 - 2016-12-25\n",
    "\n",
    "AveragePrice of Avacados range between 0.49$-1.68\\$\n",
    "\n",
    "Total Volume sold range between 38K - 1,03,6170\n",
    "\n",
    "Total Bags range between 3K - 3,05,611"
   ]
  },
  {
   "cell_type": "code",
   "execution_count": 46,
   "metadata": {},
   "outputs": [],
   "source": [
    "df.drop(\"type\",axis=1,inplace=True)"
   ]
  },
  {
   "cell_type": "code",
   "execution_count": 47,
   "metadata": {},
   "outputs": [
    {
     "name": "stdout",
     "output_type": "stream",
     "text": [
      "Populating the interactive namespace from numpy and matplotlib\n"
     ]
    }
   ],
   "source": [
    "import matplotlib\n",
    "# matplotlib.use('TkAgg')\n",
    "import matplotlib.pyplot as plt\n",
    "%pylab inline"
   ]
  },
  {
   "cell_type": "code",
   "execution_count": 48,
   "metadata": {},
   "outputs": [
    {
     "data": {
      "image/png": "[encoded data removed]",
      "text/plain": [
       "<Figure size 720x288 with 1 Axes>"
      ]
     },
     "metadata": {
      "needs_background": "light"
     },
     "output_type": "display_data"
    }
   ],
   "source": [
    "#Eda\n",
    "plt.subplots(figsize=(10,4))\n",
    "sns.distplot(df.AveragePrice)\n",
    "plt.show()"
   ]
  },
  {
   "cell_type": "code",
   "execution_count": 49,
   "metadata": {},
   "outputs": [
    {
     "name": "stdout",
     "output_type": "stream",
     "text": [
      "Skewness: 0.577132\n"
     ]
    }
   ],
   "source": [
    "print(\"Skewness: %f\" % df['AveragePrice'].skew())"
   ]
  },
  {
   "cell_type": "code",
   "execution_count": 50,
   "metadata": {},
   "outputs": [
    {
     "data": {
      "image/png": "[encoded data removed]",
      "text/plain": [
       "<Figure size 1080x432 with 1 Axes>"
      ]
     },
     "metadata": {
      "needs_background": "light"
     },
     "output_type": "display_data"
    }
   ],
   "source": [
    "plt.figure(figsize=(15,6))\n",
    "sns.barplot(x = 'region', y = 'AveragePrice', data = df, palette = 'vlag')\n",
    "plt.xticks(rotation = 90)\n",
    "plt.title(\"Region wise Average Price of Avacado's\", fontsize = 20)\n",
    "plt.show()\n"
   ]
  },
  {
   "cell_type": "code",
   "execution_count": 51,
   "metadata": {},
   "outputs": [
    {
     "data": {
      "image/png": "[encoded data removed]",
      "text/plain": [
       "<Figure size 1080x432 with 1 Axes>"
      ]
     },
     "metadata": {
      "needs_background": "light"
     },
     "output_type": "display_data"
    }
   ],
   "source": [
    "plt.figure(figsize=(15,6))\n",
    "sns.barplot(x = 'region', y = 'Total Volume', data = df, palette = 'Spectral')\n",
    "plt.xticks(rotation = 90)\n",
    "plt.title('Region wise average Total Volume', fontsize = 20)\n",
    "plt.show()"
   ]
  },
  {
   "cell_type": "code",
   "execution_count": 52,
   "metadata": {},
   "outputs": [
    {
     "data": {
      "text/plain": [
       "<matplotlib.axes._subplots.AxesSubplot at 0x1a0ec1cca90>"
      ]
     },
     "execution_count": 52,
     "metadata": {},
     "output_type": "execute_result"
    },
    {
     "data": {
      "image/png": "[encoded data removed]",
      "text/plain": [
       "<Figure size 432x288 with 1 Axes>"
      ]
     },
     "metadata": {
      "needs_background": "light"
     },
     "output_type": "display_data"
    }
   ],
   "source": [
    "df.set_index(\"Date\",inplace=True)\n",
    "df[\"AveragePrice\"].plot()"
   ]
  },
  {
   "cell_type": "code",
   "execution_count": 53,
   "metadata": {},
   "outputs": [],
   "source": [
    "#To better understand the data we should change the region data using label Encoder\n",
    "from sklearn.preprocessing import LabelEncoder\n",
    "le=LabelEncoder()\n",
    "df[[\"region\"]] = df[[\"region\"]].apply(le.fit_transform)"
   ]
  },
  {
   "cell_type": "code",
   "execution_count": 54,
   "metadata": {},
   "outputs": [
    {
     "data": {
      "image/png": "[encoded data removed]",
      "text/plain": [
       "<Figure size 576x504 with 2 Axes>"
      ]
     },
     "metadata": {
      "needs_background": "light"
     },
     "output_type": "display_data"
    }
   ],
   "source": [
    "corr_hmap= df.corr()\n",
    "plt.figure(figsize=(8,7))\n",
    "sns.heatmap(corr_hmap,annot=True)\n",
    "plt.show()"
   ]
  },
  {
   "cell_type": "code",
   "execution_count": 55,
   "metadata": {},
   "outputs": [
    {
     "data": {
      "image/png": "[encoded data removed]",
      "text/plain": [
       "<Figure size 576x432 with 1 Axes>"
      ]
     },
     "metadata": {
      "needs_background": "light"
     },
     "output_type": "display_data"
    }
   ],
   "source": [
    "plt.figure(figsize=(8,6))\n",
    "df.drop(\"AveragePrice\",axis=1).corrwith(df[\"AveragePrice\"]).plot(kind=\"bar\",grid=True)\n",
    "plt.xticks(rotation=30)\n",
    "plt.show()"
   ]
  },
  {
   "cell_type": "code",
   "execution_count": 26,
   "metadata": {},
   "outputs": [
    {
     "data": {
      "image/png": "[encoded data removed]",
      "text/plain": [
       "<Figure size 576x432 with 1 Axes>"
      ]
     },
     "metadata": {
      "needs_background": "light"
     },
     "output_type": "display_data"
    }
   ],
   "source": [
    "plt.figure(figsize=(8,6))\n",
    "df.drop(\"region\",axis=1).corrwith(df[\"region\"]).plot(kind=\"bar\",grid=True)\n",
    "plt.xticks(rotation=30)\n",
    "plt.show()"
   ]
  },
  {
   "cell_type": "markdown",
   "metadata": {},
   "source": [
    "EDA Concluding Remarks\n",
    "\n",
    "Pre-processing Pipeline"
   ]
  },
  {
   "cell_type": "code",
   "execution_count": 56,
   "metadata": {},
   "outputs": [],
   "source": [
    "#To better understand the data we should change the region data using label Encoder\n",
    "from sklearn.preprocessing import LabelEncoder\n",
    "le=LabelEncoder()\n",
    "df[[\"region\"]] = df[[\"region\"]].apply(le.fit_transform)"
   ]
  },
  {
   "cell_type": "code",
   "execution_count": 57,
   "metadata": {},
   "outputs": [],
   "source": [
    "y=df[\"AveragePrice\"]\n",
    "x=df.drop(\"AveragePrice\", axis=1)"
   ]
  },
  {
   "cell_type": "code",
   "execution_count": 30,
   "metadata": {},
   "outputs": [],
   "source": [
    "df.drop(\"type\",axis=1,inplace=True)"
   ]
  },
  {
   "cell_type": "code",
   "execution_count": 115,
   "metadata": {},
   "outputs": [],
   "source": [
    "from sklearn.preprocessing import StandardScaler\n",
    "sc=StandardScaler()\n",
    "x_t=sc.fit_transform(x)\n",
    "from sklearn.model_selection import train_test_split\n",
    "from sklearn.model_selection import KFold, cross_val_score, GridSearchCV\n",
    "lr=LinearRegression()\n",
    "from sklearn.metrics import r2_score\n",
    "import warnings\n",
    "warnings.filterwarnings(\"ignore\")"
   ]
  },
  {
   "cell_type": "code",
   "execution_count": 116,
   "metadata": {},
   "outputs": [
    {
     "name": "stdout",
     "output_type": "stream",
     "text": [
      "At random state 239 The model Perfomes very well\n",
      "Training r2_score is: 13.930469263968149\n",
      "Testing r2_score is: 13.92680072800444\n",
      "At random state 545 The model Perfomes very well\n",
      "Training r2_score is: 13.918227686998797\n",
      "Testing r2_score is: 13.922823733059086\n",
      "At random state 648 The model Perfomes very well\n",
      "Training r2_score is: 13.91748061206326\n",
      "Testing r2_score is: 13.917972605253837\n",
      "At random state 650 The model Perfomes very well\n",
      "Training r2_score is: 13.930998075782309\n",
      "Testing r2_score is: 13.933765855632096\n",
      "At random state 667 The model Perfomes very well\n",
      "Training r2_score is: 13.92827874561825\n",
      "Testing r2_score is: 13.927626857040632\n",
      "At random state 691 The model Perfomes very well\n",
      "Training r2_score is: 13.932092575936094\n",
      "Testing r2_score is: 13.927248672508242\n",
      "At random state 930 The model Perfomes very well\n",
      "Training r2_score is: 13.9255838886859\n",
      "Testing r2_score is: 13.93094164661689\n"
     ]
    }
   ],
   "source": [
    "max_scr=0\n",
    "for i in range(30,1000):\n",
    "    x_train,x_test,y_train,y_test=train_test_split(x_t,y,test_size=.20,random_state=i)\n",
    "    lr.fit(x_train,y_train)\n",
    "    pred_train=lr.predict(x_train)\n",
    "    pred_test=lr.predict(x_test)\n",
    "    if round(r2_score(y_train,pred_train)*100,2)==round(r2_score(y_test,pred_test)*100,2):\n",
    "        print(\"At random state\",i,\"The model Perfomes very well\")\n",
    "        print(\"Training r2_score is:\",r2_score(y_train,pred_train)*100)\n",
    "        print(\"Testing r2_score is:\",r2_score(y_test,pred_test)*100)"
   ]
  },
  {
   "cell_type": "code",
   "execution_count": 117,
   "metadata": {},
   "outputs": [],
   "source": [
    "x_train,x_test,y_train,y_test=train_test_split(x_t,y,test_size=.20,random_state=477)\n",
    "num_folds = 10\n",
    "seed = 239\n",
    "scoring = 'neg_mean_squared_error'"
   ]
  },
  {
   "cell_type": "markdown",
   "metadata": {},
   "source": [
    "Model building"
   ]
  },
  {
   "cell_type": "code",
   "execution_count": 118,
   "metadata": {},
   "outputs": [],
   "source": [
    "models= [\n",
    "    (\"Lasso\",Lasso()),\n",
    "    (\"Linear Regression\",LinearRegression()),\n",
    "    (\"Decision Tree\", DecisionTreeRegressor()),\n",
    "    (\"Ridge Regression\",Ridge()),\n",
    "    (\"KNearest Neighbors\",KNeighborsRegressor(3)),\n",
    "    (\"SVR\",SVR()),\n",
    "    (\"RandomForestRegressor\",RandomForestRegressor())\n",
    "    ]"
   ]
  },
  {
   "cell_type": "code",
   "execution_count": 119,
   "metadata": {},
   "outputs": [
    {
     "name": "stdout",
     "output_type": "stream",
     "text": [
      "R2 Score with Lasso: -0.000001 \n",
      "R2 Score with Linear Regression: 0.133031 \n",
      "R2 Score with Decision Tree: 0.717615 \n",
      "R2 Score with Ridge Regression: 0.133054 \n",
      "R2 Score with KNearest Neighbors: 0.851749 \n",
      "R2 Score with SVR: 0.482407 \n",
      "R2 Score with RandomForestRegressor: 0.852401 \n"
     ]
    }
   ],
   "source": [
    "results = []\n",
    "names = []\n",
    "for name, model in models:\n",
    "    model.fit(x_train,y_train)\n",
    "    y_pred = model.predict(x_test)\n",
    "    R2 = r2_score(y_test,y_pred)\n",
    "    results.append(R2)\n",
    "    names.append(name)\n",
    "    msg = \"R2 Score with \"\"%s: %f \" % (name, R2)\n",
    "    print(msg)"
   ]
  },
  {
   "cell_type": "code",
   "execution_count": 53,
   "metadata": {},
   "outputs": [],
   "source": [
    "#RandomForest and KNearest gives highest accuracy with 85%"
   ]
  },
  {
   "cell_type": "code",
   "execution_count": 120,
   "metadata": {},
   "outputs": [
    {
     "name": "stdout",
     "output_type": "stream",
     "text": [
      "{'metric': 'manhattan', 'n_neighbors': 5, 'weights': 'distance'}\n"
     ]
    }
   ],
   "source": [
    "# example of grid searching key hyperparametres for KNeighborsClassifier\n",
    "from sklearn.model_selection import GridSearchCV\n",
    "\n",
    "# define models and parameters\n",
    "model = KNeighborsRegressor()\n",
    "n_neighbors = range(1, 13, 2)\n",
    "weights = ['uniform', 'distance']\n",
    "metric = ['euclidean', 'manhattan', 'minkowski']\n",
    "grid = dict(n_neighbors=n_neighbors,weights=weights,metric=metric)\n",
    "\n",
    "clf=GridSearchCV(model,grid)\n",
    "clf.fit(x_train,y_train)\n",
    "print(clf.best_params_)"
   ]
  },
  {
   "cell_type": "code",
   "execution_count": 123,
   "metadata": {},
   "outputs": [
    {
     "name": "stdout",
     "output_type": "stream",
     "text": [
      "r2 score is : 86.70672311845621\n",
      "Cross value Score: -0.7960449595473725\n"
     ]
    }
   ],
   "source": [
    "KNN= KNeighborsRegressor(metric= 'manhattan', n_neighbors= 5, weights= 'distance')\n",
    "KNN.fit(x_train,y_train)\n",
    "KNN.score(x_train,y_train)\n",
    "y_pred = KNN.predict(x_test)\n",
    "\n",
    "KNNs = r2_score(y_test,y_pred)\n",
    "print(\"r2 score is :\",KNNs*100)\n",
    "\n",
    "KNNscore=cross_val_score(KNN,x_t,y,cv=3)\n",
    "KNNc=KNNscore.mean()\n",
    "print(\"Cross value Score:\",KNNc)"
   ]
  },
  {
   "cell_type": "code",
   "execution_count": 128,
   "metadata": {},
   "outputs": [
    {
     "data": {
      "image/png": "[encoded data removed]",
      "text/plain": [
       "<Figure size 576x432 with 1 Axes>"
      ]
     },
     "metadata": {
      "needs_background": "light"
     },
     "output_type": "display_data"
    }
   ],
   "source": [
    "plt.figure(figsize=(8,6))\n",
    "plt.scatter(x=y_test,y=y_pred,color='r')\n",
    "plt.plot(y_test,y_test,color='b')\n",
    "plt.title(\"KNN Regressor\",fontsize=18)\n",
    "plt.show()"
   ]
  },
  {
   "cell_type": "code",
   "execution_count": 129,
   "metadata": {},
   "outputs": [],
   "source": [
    "model=RandomForestRegressor()"
   ]
  },
  {
   "cell_type": "code",
   "execution_count": 130,
   "metadata": {},
   "outputs": [],
   "source": [
    "from sklearn.metrics import mean_absolute_error as MAE\n",
    "from sklearn.metrics import mean_squared_error as MSE"
   ]
  },
  {
   "cell_type": "code",
   "execution_count": 131,
   "metadata": {},
   "outputs": [],
   "source": [
    "n_estimators= [10,20,30]\n",
    "max_features= [5, 10]\n",
    "max_depth= [10,20,30] \n",
    "bootstrap = [True, False]\n",
    "criterion= [\"mse\", \"mae\"]\n",
    "    \n",
    "grid = dict(n_estimators=n_estimators,max_depth=max_depth, criterion=criterion)  "
   ]
  },
  {
   "cell_type": "code",
   "execution_count": 132,
   "metadata": {},
   "outputs": [],
   "source": [
    "clf=GridSearchCV(model,grid)"
   ]
  },
  {
   "cell_type": "code",
   "execution_count": null,
   "metadata": {},
   "outputs": [],
   "source": [
    "clf.fit(x_train,y_train)"
   ]
  },
  {
   "cell_type": "code",
   "execution_count": null,
   "metadata": {},
   "outputs": [],
   "source": []
  },
  {
   "cell_type": "code",
   "execution_count": 134,
   "metadata": {},
   "outputs": [
    {
     "name": "stdout",
     "output_type": "stream",
     "text": [
      "r2 score is : 84.77213007221143\n",
      "Cross value Score: -0.13783877698695415\n"
     ]
    }
   ],
   "source": [
    "rf = RandomForestRegressor(criterion = 'mse', max_depth = 20, n_estimators=30)\n",
    "rf.fit(x_train,y_train)\n",
    "rf.score(x_train,y_train)\n",
    "y_predrf = rf.predict(x_test)\n",
    "\n",
    "rfs = r2_score(y_test,y_predrf)\n",
    "print(\"r2 score is :\",rfs*100)\n",
    "\n",
    "rfscore=cross_val_score(rf,x_t,y,cv=3)\n",
    "rfc=rfscore.mean()\n",
    "print(\"Cross value Score:\",rfc)"
   ]
  },
  {
   "cell_type": "code",
   "execution_count": null,
   "metadata": {},
   "outputs": [],
   "source": [
    "#KNN Algorithm"
   ]
  },
  {
   "cell_type": "code",
   "execution_count": 74,
   "metadata": {},
   "outputs": [
    {
     "name": "stdout",
     "output_type": "stream",
     "text": [
      "KNN Mean Absolute Error: 0.1\n",
      "\n",
      "KNN Mean Squared Error: 0.02\n",
      "\n",
      "KNN R^2 Score: 86.45\n",
      "\n",
      "KNN Cross val Score: -0.118\n",
      "\n"
     ]
    }
   ],
   "source": []
  },
  {
   "cell_type": "code",
   "execution_count": 135,
   "metadata": {},
   "outputs": [
    {
     "name": "stdout",
     "output_type": "stream",
     "text": [
      "KNN Mean Absolute Error: 0.1\n",
      "\n",
      "KNN Mean Squared Error: 0.02\n",
      "\n",
      "KNN R^2 Score: 86.71\n",
      "\n",
      "KNN Cross val Score: -0.1326\n",
      "\n"
     ]
    }
   ],
   "source": [
    "from sklearn.metrics import mean_absolute_error as MAE\n",
    "from sklearn.metrics import mean_squared_error as MSE\n",
    "#score variables\n",
    "rf_MAE = round(MAE(y_test, y_pred),2)\n",
    "rf_MSE = round(MSE(y_test, y_pred),2)\n",
    "rf_R_2 = round(r2_score(y_test, y_pred),4)\n",
    "rf_CS  = round(cross_val_score(rf,x_t,y,cv=3).mean(),4)\n",
    "\n",
    "print(f\"KNN Mean Absolute Error: {rf_MAE}\\n\")\n",
    "print(f\"KNN Mean Squared Error: {rf_MSE}\\n\")\n",
    "print(f\"KNN R^2 Score: {rf_R_2*100}\\n\")\n",
    "print(f\"KNN Cross val Score: {rf_CS}\\n\")"
   ]
  },
  {
   "cell_type": "code",
   "execution_count": 136,
   "metadata": {},
   "outputs": [
    {
     "name": "stdout",
     "output_type": "stream",
     "text": [
      "RFR Mean Absolute Error: 0.11\n",
      "\n",
      "RFR Mean Squared Error: 0.03\n",
      "\n",
      "RFR R^2 Score: 84.77\n",
      "\n",
      "RFR Cross val Score: -0.1288\n",
      "\n"
     ]
    }
   ],
   "source": [
    "rf_MAE = round(MAE(y_test, y_predrf),2)\n",
    "rf_MSE = round(MSE(y_test, y_predrf),2)\n",
    "rf_R_2 = round(r2_score(y_test,y_predrf),4)\n",
    "rf_CS  = round(cross_val_score(rf,x_t,y,cv=3).mean(),4)\n",
    "\n",
    "print(f\"RFR Mean Absolute Error: {rf_MAE}\\n\")\n",
    "print(f\"RFR Mean Squared Error: {rf_MSE}\\n\")\n",
    "print(f\"RFR R^2 Score: {rf_R_2*100}\\n\")\n",
    "print(f\"RFR Cross val Score: {rf_CS}\\n\")"
   ]
  },
  {
   "cell_type": "code",
   "execution_count": 114,
   "metadata": {},
   "outputs": [
    {
     "name": "stdout",
     "output_type": "stream",
     "text": [
      "[AdaBoostRegressor()]:\n",
      "0.10233215631838466\n",
      "0.9992688804347843 4\n",
      "****************************************************************\n",
      "\n",
      "\n",
      "[AdaBoostRegressor(), ExtraTreesRegressor()]:\n",
      "0.8205096053884606\n",
      "0.9992293713504198 4\n",
      "****************************************************************\n",
      "\n",
      "\n",
      "[AdaBoostRegressor(), ExtraTreesRegressor(), GradientBoostingRegressor()]:\n",
      "0.38377202499890084\n",
      "0.9993546085389075 4\n",
      "****************************************************************\n",
      "\n",
      "\n"
     ]
    }
   ],
   "source": [
    "models= [AdaBoostRegressor(), ExtraTreesRegressor(), GradientBoostingRegressor()]\n",
    "names = []\n",
    "\n",
    "for m in models:\n",
    "    m.fit(x_train, y_train)\n",
    "    m.score(x_train, y_train)\n",
    "    predm = m.predict(x_test)\n",
    "    names.append(m)\n",
    "    msg = \"%s:\" % (names)\n",
    "    print(msg)\n",
    "    print(r2_score(y_test, predm)) \n",
    "    print(cross_val_score(rf,x_t,y,cv=3).mean(),4)\n",
    "    print(\"****************************************************************\")\n",
    "    print(\"\\n\")"
   ]
  },
  {
   "cell_type": "code",
   "execution_count": 78,
   "metadata": {},
   "outputs": [
    {
     "name": "stdout",
     "output_type": "stream",
     "text": [
      "r2 score is : 84.42120042441455\n",
      "Cross value Score: -0.7919437580655299\n"
     ]
    }
   ],
   "source": [
    "from sklearn.ensemble import AdaBoostRegressor\n",
    "#Creating AdaBoost Regressor \n",
    "ad=AdaBoostRegressor(n_estimators=50,base_estimator=KNN)\n",
    "ad.fit(x_train,y_train)\n",
    "\n",
    "ad_pred= ad.predict(x_test)\n",
    "ABs = r2_score(y_test,ad_pred)\n",
    "print(\"r2 score is :\",ABs*100)\n",
    "\n",
    "ABscore=cross_val_score(ad,x_t,y,cv=3)\n",
    "ABc=ABscore.mean()\n",
    "print(\"Cross value Score:\",ABc)"
   ]
  },
  {
   "cell_type": "code",
   "execution_count": 79,
   "metadata": {},
   "outputs": [
    {
     "name": "stdout",
     "output_type": "stream",
     "text": [
      "AB Mean Absolute Error: 0.1\n",
      "\n",
      "AB Mean Squared Error: 0.03\n",
      "\n",
      "AB R^2 Score: 84.42\n",
      "\n",
      "AB val Score: -0.7933\n",
      "\n"
     ]
    }
   ],
   "source": [
    "Ad_MAE = round(MAE(y_test, ad_pred),2)\n",
    "Ad_MSE = round(MSE(y_test, ad_pred),2)\n",
    "Ad_R_2 = round(r2_score(y_test, ad_pred),4)\n",
    "Ad_CS  = round(cross_val_score(ad,x_t,y,cv=3).mean(),4)\n",
    "\n",
    "print(f\"AB Mean Absolute Error: {Ad_MAE}\\n\")\n",
    "print(f\"AB Mean Squared Error: {Ad_MSE}\\n\")\n",
    "print(f\"AB R^2 Score: {Ad_R_2*100}\\n\")\n",
    "print(f\"AB val Score: {Ad_CS}\\n\")"
   ]
  },
  {
   "cell_type": "code",
   "execution_count": 80,
   "metadata": {},
   "outputs": [
    {
     "data": {
      "image/png": "[encoded data removed]",
      "text/plain": [
       "<Figure size 576x432 with 1 Axes>"
      ]
     },
     "metadata": {
      "needs_background": "light"
     },
     "output_type": "display_data"
    }
   ],
   "source": [
    "plt.figure(figsize=(8,6))\n",
    "plt.scatter(x=y_test,y=ad_pred,color='r')\n",
    "plt.plot(y_test,y_test,color='b')\n",
    "plt.title(\"AdaBoost Regressor\",fontsize=18)\n",
    "plt.show()"
   ]
  },
  {
   "cell_type": "code",
   "execution_count": 81,
   "metadata": {},
   "outputs": [
    {
     "name": "stdout",
     "output_type": "stream",
     "text": [
      "r2 score is : 87.38385047821701\n",
      "Cross value Score: -0.17261688286885316\n"
     ]
    }
   ],
   "source": [
    "ETR=ExtraTreesRegressor(n_estimators=100)\n",
    "ETR.fit(x_train,y_train)\n",
    "\n",
    "ETR_pred= ETR.predict(x_test)\n",
    "ETRs = r2_score(y_test,ETR_pred)\n",
    "print(\"r2 score is :\",ETRs*100)\n",
    "\n",
    "ETRscore=cross_val_score(ETR,x_t,y,cv=3)\n",
    "ETRc=ETRscore.mean()\n",
    "print(\"Cross value Score:\",ETRc)"
   ]
  },
  {
   "cell_type": "code",
   "execution_count": 82,
   "metadata": {},
   "outputs": [
    {
     "name": "stdout",
     "output_type": "stream",
     "text": [
      "ETR Mean Absolute Error: 0.1\n",
      "\n",
      "ETR Mean Squared Error: 0.02\n",
      "\n",
      "ETR R^2 Score: 87.38\n",
      "\n",
      "ETR val Score: -0.205\n",
      "\n"
     ]
    }
   ],
   "source": [
    "ETR_MAE = round(MAE(y_test, ETR_pred),2)\n",
    "ETR_MSE = round(MSE(y_test, ETR_pred),2)\n",
    "ETR_R_2 = round(r2_score(y_test, ETR_pred),4)\n",
    "ETR_CS  = round(cross_val_score(ETR,x_t,y,cv=3).mean(),4)\n",
    "\n",
    "print(f\"ETR Mean Absolute Error: {ETR_MAE}\\n\")\n",
    "print(f\"ETR Mean Squared Error: {ETR_MSE}\\n\")\n",
    "print(f\"ETR R^2 Score: {ETR_R_2*100}\\n\")\n",
    "print(f\"ETR val Score: {ETR_CS}\\n\")"
   ]
  },
  {
   "cell_type": "code",
   "execution_count": 83,
   "metadata": {},
   "outputs": [
    {
     "data": {
      "image/png": "[encoded data removed]",
      "text/plain": [
       "<Figure size 576x432 with 1 Axes>"
      ]
     },
     "metadata": {
      "needs_background": "light"
     },
     "output_type": "display_data"
    }
   ],
   "source": [
    "plt.figure(figsize=(8,6))\n",
    "plt.scatter(x=y_test,y=ETR_pred,color='r')\n",
    "plt.plot(y_test,y_test,color='b')\n",
    "plt.title(\"ExtraTree Regressor\",fontsize=18)\n",
    "plt.show()"
   ]
  },
  {
   "cell_type": "code",
   "execution_count": 84,
   "metadata": {},
   "outputs": [
    {
     "data": {
      "text/plain": [
       "ExtraTreesRegressor()"
      ]
     },
     "execution_count": 84,
     "metadata": {},
     "output_type": "execute_result"
    }
   ],
   "source": [
    "model= ExtraTreesRegressor(n_estimators=100)\n",
    "model.fit(x_train, y_train)"
   ]
  },
  {
   "cell_type": "code",
   "execution_count": 85,
   "metadata": {},
   "outputs": [
    {
     "data": {
      "text/html": [
       "<div>\n",
       "<style scoped>\n",
       "    .dataframe tbody tr th:only-of-type {\n",
       "        vertical-align: middle;\n",
       "    }\n",
       "\n",
       "    .dataframe tbody tr th {\n",
       "        vertical-align: top;\n",
       "    }\n",
       "\n",
       "    .dataframe thead th {\n",
       "        text-align: right;\n",
       "    }\n",
       "</style>\n",
       "<table border=\"1\" class=\"dataframe\">\n",
       "  <thead>\n",
       "    <tr style=\"text-align: right;\">\n",
       "      <th></th>\n",
       "      <th>Original</th>\n",
       "      <th>Predicted</th>\n",
       "    </tr>\n",
       "    <tr>\n",
       "      <th>Date</th>\n",
       "      <th></th>\n",
       "      <th></th>\n",
       "    </tr>\n",
       "  </thead>\n",
       "  <tbody>\n",
       "    <tr>\n",
       "      <th>2016-07-17</th>\n",
       "      <td>1.49</td>\n",
       "      <td>1.4547</td>\n",
       "    </tr>\n",
       "    <tr>\n",
       "      <th>2017-07-30</th>\n",
       "      <td>1.63</td>\n",
       "      <td>1.7160</td>\n",
       "    </tr>\n",
       "    <tr>\n",
       "      <th>2015-03-08</th>\n",
       "      <td>1.17</td>\n",
       "      <td>1.1719</td>\n",
       "    </tr>\n",
       "    <tr>\n",
       "      <th>2015-03-15</th>\n",
       "      <td>1.33</td>\n",
       "      <td>1.3179</td>\n",
       "    </tr>\n",
       "    <tr>\n",
       "      <th>2015-04-05</th>\n",
       "      <td>1.91</td>\n",
       "      <td>1.9019</td>\n",
       "    </tr>\n",
       "    <tr>\n",
       "      <th>...</th>\n",
       "      <td>...</td>\n",
       "      <td>...</td>\n",
       "    </tr>\n",
       "    <tr>\n",
       "      <th>2016-02-28</th>\n",
       "      <td>0.80</td>\n",
       "      <td>0.8787</td>\n",
       "    </tr>\n",
       "    <tr>\n",
       "      <th>2016-12-11</th>\n",
       "      <td>1.52</td>\n",
       "      <td>1.4647</td>\n",
       "    </tr>\n",
       "    <tr>\n",
       "      <th>2017-10-29</th>\n",
       "      <td>1.81</td>\n",
       "      <td>1.6991</td>\n",
       "    </tr>\n",
       "    <tr>\n",
       "      <th>2016-05-22</th>\n",
       "      <td>1.46</td>\n",
       "      <td>1.3871</td>\n",
       "    </tr>\n",
       "    <tr>\n",
       "      <th>2017-12-10</th>\n",
       "      <td>1.29</td>\n",
       "      <td>1.3065</td>\n",
       "    </tr>\n",
       "  </tbody>\n",
       "</table>\n",
       "<p>3583 rows × 2 columns</p>\n",
       "</div>"
      ],
      "text/plain": [
       "            Original  Predicted\n",
       "Date                           \n",
       "2016-07-17      1.49     1.4547\n",
       "2017-07-30      1.63     1.7160\n",
       "2015-03-08      1.17     1.1719\n",
       "2015-03-15      1.33     1.3179\n",
       "2015-04-05      1.91     1.9019\n",
       "...              ...        ...\n",
       "2016-02-28      0.80     0.8787\n",
       "2016-12-11      1.52     1.4647\n",
       "2017-10-29      1.81     1.6991\n",
       "2016-05-22      1.46     1.3871\n",
       "2017-12-10      1.29     1.3065\n",
       "\n",
       "[3583 rows x 2 columns]"
      ]
     },
     "execution_count": 85,
     "metadata": {},
     "output_type": "execute_result"
    }
   ],
   "source": [
    "df_pred=pd.DataFrame({\"Original\":y_test,\"Predicted\":ETR_pred})\n",
    "df_pred"
   ]
  },
  {
   "cell_type": "code",
   "execution_count": 86,
   "metadata": {},
   "outputs": [
    {
     "data": {
      "text/plain": [
       "['AvacadoPrice.pkl']"
      ]
     },
     "execution_count": 86,
     "metadata": {},
     "output_type": "execute_result"
    }
   ],
   "source": [
    "import joblib\n",
    "joblib.dump(model,\"AvacadoPrice.pkl\")"
   ]
  },
  {
   "cell_type": "code",
   "execution_count": 87,
   "metadata": {},
   "outputs": [],
   "source": [
    "y_r=df[\"region\"]\n",
    "x_r=df.drop(\"region\", axis=1)"
   ]
  },
  {
   "cell_type": "code",
   "execution_count": 88,
   "metadata": {},
   "outputs": [],
   "source": [
    "from sklearn.preprocessing import StandardScaler\n",
    "sc=StandardScaler()\n",
    "x_t=sc.fit_transform(x_r)\n",
    "from sklearn.model_selection import train_test_split\n",
    "from sklearn.model_selection import KFold, cross_val_score, GridSearchCV\n",
    "lr=LogisticRegression()\n",
    "from sklearn.metrics import accuracy_score,confusion_matrix,classification_report\n",
    "import warnings\n",
    "warnings.filterwarnings(\"ignore\")"
   ]
  },
  {
   "cell_type": "code",
   "execution_count": 89,
   "metadata": {},
   "outputs": [
    {
     "name": "stdout",
     "output_type": "stream",
     "text": [
      "At random state 30 The model Perfomes very well\n",
      "Training accuracy_score is: 30.534617532104967\n",
      "Testing accuracy_score is: 0.2813284956740162\n",
      "\n",
      "\n",
      "At random state 31 The model Perfomes very well\n",
      "Training accuracy_score is: 30.011166945840312\n",
      "Testing accuracy_score is: 0.28691041027072284\n",
      "\n",
      "\n",
      "At random state 32 The model Perfomes very well\n",
      "Training accuracy_score is: 30.40898939140145\n",
      "Testing accuracy_score is: 0.2874686017303935\n",
      "\n",
      "\n",
      "At random state 33 The model Perfomes very well\n",
      "Training accuracy_score is: 30.1856504745952\n",
      "Testing accuracy_score is: 0.2944459949762769\n",
      "\n",
      "\n",
      "At random state 34 The model Perfomes very well\n",
      "Training accuracy_score is: 30.506700167504185\n",
      "Testing accuracy_score is: 0.28272397432319285\n",
      "\n",
      "\n",
      "At random state 35 The model Perfomes very well\n",
      "Training accuracy_score is: 30.597431602456727\n",
      "Testing accuracy_score is: 0.26904828356126154\n",
      "\n",
      "\n",
      "At random state 36 The model Perfomes very well\n",
      "Training accuracy_score is: 30.346175321049696\n",
      "Testing accuracy_score is: 0.2975160480044655\n",
      "\n",
      "\n",
      "At random state 37 The model Perfomes very well\n",
      "Training accuracy_score is: 30.19262981574539\n",
      "Testing accuracy_score is: 0.2841194529723695\n",
      "\n",
      "\n",
      "At random state 38 The model Perfomes very well\n",
      "Training accuracy_score is: 30.10887772194305\n",
      "Testing accuracy_score is: 0.29500418643594756\n",
      "\n",
      "\n",
      "At random state 39 The model Perfomes very well\n",
      "Training accuracy_score is: 30.38107202680067\n",
      "Testing accuracy_score is: 0.2810493999441809\n",
      "\n",
      "\n",
      "At random state 40 The model Perfomes very well\n",
      "Training accuracy_score is: 30.080960357342267\n",
      "Testing accuracy_score is: 0.2841194529723695\n",
      "\n",
      "\n",
      "At random state 41 The model Perfomes very well\n",
      "Training accuracy_score is: 30.45784477945282\n",
      "Testing accuracy_score is: 0.2704437622104382\n",
      "\n",
      "\n",
      "At random state 42 The model Perfomes very well\n",
      "Training accuracy_score is: 30.590452261306535\n",
      "Testing accuracy_score is: 0.30588891989952555\n",
      "\n",
      "\n",
      "At random state 43 The model Perfomes very well\n",
      "Training accuracy_score is: 29.808766052484646\n",
      "Testing accuracy_score is: 0.28523583589171086\n",
      "\n",
      "\n",
      "At random state 44 The model Perfomes very well\n",
      "Training accuracy_score is: 30.62534896705751\n",
      "Testing accuracy_score is: 0.28244487859335754\n",
      "\n",
      "\n",
      "At random state 45 The model Perfomes very well\n",
      "Training accuracy_score is: 30.618369625907317\n",
      "Testing accuracy_score is: 0.2910968462182529\n",
      "\n",
      "\n",
      "At random state 46 The model Perfomes very well\n",
      "Training accuracy_score is: 29.669179229480736\n",
      "Testing accuracy_score is: 0.28579402735138154\n",
      "\n",
      "\n",
      "At random state 47 The model Perfomes very well\n",
      "Training accuracy_score is: 30.583472920156336\n",
      "Testing accuracy_score is: 0.2947250907061122\n",
      "\n",
      "\n",
      "At random state 48 The model Perfomes very well\n",
      "Training accuracy_score is: 29.752931323283082\n",
      "Testing accuracy_score is: 0.29025955902874684\n",
      "\n",
      "\n",
      "At random state 49 The model Perfomes very well\n",
      "Training accuracy_score is: 29.766890005583473\n",
      "Testing accuracy_score is: 0.2866313145408875\n",
      "\n",
      "\n",
      "At random state 50 The model Perfomes very well\n",
      "Training accuracy_score is: 30.388051367950865\n",
      "Testing accuracy_score is: 0.2977951437343009\n",
      "\n",
      "\n",
      "At random state 52 The model Perfomes very well\n",
      "Training accuracy_score is: 30.10887772194305\n",
      "Testing accuracy_score is: 0.28858498464973487\n",
      "\n",
      "\n",
      "At random state 53 The model Perfomes very well\n",
      "Training accuracy_score is: 30.38107202680067\n",
      "Testing accuracy_score is: 0.2877476974602289\n",
      "\n",
      "\n",
      "At random state 55 The model Perfomes very well\n",
      "Training accuracy_score is: 31.232551647124513\n",
      "Testing accuracy_score is: 0.3022606754116662\n",
      "\n",
      "\n",
      "At random state 56 The model Perfomes very well\n",
      "Training accuracy_score is: 30.25544388609715\n",
      "Testing accuracy_score is: 0.30002790957298353\n",
      "\n",
      "\n",
      "At random state 57 The model Perfomes very well\n",
      "Training accuracy_score is: 30.094919039642658\n",
      "Testing accuracy_score is: 0.2916550376779235\n",
      "\n",
      "\n",
      "At random state 58 The model Perfomes very well\n",
      "Training accuracy_score is: 30.136795086543835\n",
      "Testing accuracy_score is: 0.29584147362545354\n",
      "\n",
      "\n",
      "At random state 59 The model Perfomes very well\n",
      "Training accuracy_score is: 30.067001675041876\n",
      "Testing accuracy_score is: 0.2810493999441809\n",
      "\n",
      "\n",
      "At random state 60 The model Perfomes very well\n",
      "Training accuracy_score is: 29.96929089893914\n",
      "Testing accuracy_score is: 0.2874686017303935\n",
      "\n",
      "\n",
      "At random state 61 The model Perfomes very well\n",
      "Training accuracy_score is: 30.346175321049696\n",
      "Testing accuracy_score is: 0.2938878035166062\n",
      "\n",
      "\n",
      "At random state 63 The model Perfomes very well\n",
      "Training accuracy_score is: 30.93243997766611\n",
      "Testing accuracy_score is: 0.2816075914038515\n",
      "\n",
      "\n",
      "At random state 64 The model Perfomes very well\n",
      "Training accuracy_score is: 29.89251814628699\n",
      "Testing accuracy_score is: 0.29835333519397156\n",
      "\n",
      "\n",
      "At random state 66 The model Perfomes very well\n",
      "Training accuracy_score is: 30.71608040201005\n",
      "Testing accuracy_score is: 0.2871895060005582\n",
      "\n",
      "\n",
      "At random state 67 The model Perfomes very well\n",
      "Training accuracy_score is: 30.011166945840312\n",
      "Testing accuracy_score is: 0.2883058889198995\n",
      "\n",
      "\n",
      "At random state 68 The model Perfomes very well\n",
      "Training accuracy_score is: 30.37409268565047\n",
      "Testing accuracy_score is: 0.29193413340775887\n",
      "\n",
      "\n",
      "At random state 69 The model Perfomes very well\n",
      "Training accuracy_score is: 29.941373534338357\n",
      "Testing accuracy_score is: 0.2908177504884175\n",
      "\n",
      "\n",
      "At random state 71 The model Perfomes very well\n",
      "Training accuracy_score is: 30.220547180346173\n",
      "Testing accuracy_score is: 0.29612056935528885\n",
      "\n",
      "\n",
      "At random state 73 The model Perfomes very well\n",
      "Training accuracy_score is: 29.98324958123953\n",
      "Testing accuracy_score is: 0.2997488138431482\n",
      "\n",
      "\n",
      "At random state 74 The model Perfomes very well\n",
      "Training accuracy_score is: 29.871580122836406\n",
      "Testing accuracy_score is: 0.2908177504884175\n",
      "\n",
      "\n",
      "At random state 75 The model Perfomes very well\n",
      "Training accuracy_score is: 30.15075376884422\n",
      "Testing accuracy_score is: 0.29946971811331285\n",
      "\n",
      "\n",
      "At random state 77 The model Perfomes very well\n",
      "Training accuracy_score is: 30.087939698492463\n",
      "Testing accuracy_score is: 0.29500418643594756\n",
      "\n",
      "\n",
      "At random state 78 The model Perfomes very well\n",
      "Training accuracy_score is: 29.96929089893914\n",
      "Testing accuracy_score is: 0.2880267931900642\n",
      "\n",
      "\n",
      "At random state 79 The model Perfomes very well\n",
      "Training accuracy_score is: 30.25544388609715\n",
      "Testing accuracy_score is: 0.28356126151269884\n",
      "\n",
      "\n",
      "At random state 81 The model Perfomes very well\n",
      "Training accuracy_score is: 29.92741485203797\n",
      "Testing accuracy_score is: 0.2871895060005582\n",
      "\n",
      "\n",
      "At random state 82 The model Perfomes very well\n",
      "Training accuracy_score is: 30.15075376884422\n",
      "Testing accuracy_score is: 0.2910968462182529\n",
      "\n",
      "\n",
      "At random state 83 The model Perfomes very well\n",
      "Training accuracy_score is: 29.7250139586823\n",
      "Testing accuracy_score is: 0.2913759419480882\n",
      "\n",
      "\n",
      "At random state 84 The model Perfomes very well\n",
      "Training accuracy_score is: 30.087939698492463\n",
      "Testing accuracy_score is: 0.2905386547585822\n",
      "\n",
      "\n",
      "At random state 86 The model Perfomes very well\n",
      "Training accuracy_score is: 30.227526521496372\n",
      "Testing accuracy_score is: 0.28356126151269884\n",
      "\n",
      "\n",
      "At random state 87 The model Perfomes very well\n",
      "Training accuracy_score is: 30.485762144053602\n",
      "Testing accuracy_score is: 0.29919062238347754\n",
      "\n",
      "\n",
      "At random state 88 The model Perfomes very well\n",
      "Training accuracy_score is: 29.99022892238973\n",
      "Testing accuracy_score is: 0.29500418643594756\n",
      "\n",
      "\n",
      "At random state 89 The model Perfomes very well\n",
      "Training accuracy_score is: 30.21356783919598\n",
      "Testing accuracy_score is: 0.28691041027072284\n",
      "\n",
      "\n",
      "At random state 91 The model Perfomes very well\n",
      "Training accuracy_score is: 29.683137911781127\n",
      "Testing accuracy_score is: 0.29528328216578287\n",
      "\n",
      "\n",
      "At random state 92 The model Perfomes very well\n",
      "Training accuracy_score is: 30.129815745393635\n",
      "Testing accuracy_score is: 0.2841194529723695\n",
      "\n",
      "\n",
      "At random state 93 The model Perfomes very well\n",
      "Training accuracy_score is: 29.850642099385816\n",
      "Testing accuracy_score is: 0.2888640803795702\n",
      "\n",
      "\n",
      "At random state 94 The model Perfomes very well\n",
      "Training accuracy_score is: 30.436906756002237\n",
      "Testing accuracy_score is: 0.28356126151269884\n",
      "\n",
      "\n",
      "At random state 95 The model Perfomes very well\n",
      "Training accuracy_score is: 30.422948073701843\n",
      "Testing accuracy_score is: 0.2838403572425342\n",
      "\n",
      "\n",
      "At random state 97 The model Perfomes very well\n",
      "Training accuracy_score is: 30.25544388609715\n",
      "Testing accuracy_score is: 0.28244487859335754\n",
      "\n",
      "\n",
      "At random state 98 The model Perfomes very well\n",
      "Training accuracy_score is: 30.00418760469012\n",
      "Testing accuracy_score is: 0.29193413340775887\n",
      "\n",
      "\n"
     ]
    },
    {
     "name": "stdout",
     "output_type": "stream",
     "text": [
      "At random state 99 The model Perfomes very well\n",
      "Training accuracy_score is: 29.99022892238973\n",
      "Testing accuracy_score is: 0.2910968462182529\n",
      "\n",
      "\n"
     ]
    }
   ],
   "source": [
    "max_scr=0\n",
    "for i in range(30,100):\n",
    "    x_train,x_test,y_train,y_test=train_test_split(x_t,y_r,test_size=.20,random_state=i)\n",
    "    lr.fit(x_train,y_train)\n",
    "    pred_train=lr.predict(x_train)\n",
    "    pred_test=lr.predict(x_test)\n",
    "    if round(accuracy_score(y_train,pred_train)*100,2)>=round(accuracy_score(y_test,pred_test)*100,2):\n",
    "        print(\"At random state\",i,\"The model Perfomes very well\")\n",
    "        print(\"Training accuracy_score is:\",accuracy_score(y_train,pred_train)*100)\n",
    "        print(\"Testing accuracy_score is:\",accuracy_score(y_test,pred_test), end = \"\\n\\n\\n\")"
   ]
  },
  {
   "cell_type": "code",
   "execution_count": 97,
   "metadata": {},
   "outputs": [],
   "source": [
    "x_train,x_test,y_train,y_test=train_test_split(x_t,y_r,test_size=.20,random_state=31)  \n",
    "num_folds = 10\n",
    "seed = 31\n",
    "scoring = 'accuracy'"
   ]
  },
  {
   "cell_type": "code",
   "execution_count": 98,
   "metadata": {},
   "outputs": [],
   "source": [
    "models= [\n",
    "    (\"SVC\",SVC()),\n",
    "    (\"Logistic Regression\",LogisticRegression()),\n",
    "    (\"Decision Tree\", DecisionTreeClassifier()),\n",
    "    (\"Naive Bayes\",GaussianNB()),\n",
    "    (\"KNearest Neighbors\",KNeighborsClassifier(3)),\n",
    "    (\"RandomForestClassifier\",RandomForestClassifier())\n",
    "    ]"
   ]
  },
  {
   "cell_type": "code",
   "execution_count": 101,
   "metadata": {},
   "outputs": [
    {
     "name": "stdout",
     "output_type": "stream",
     "text": [
      "SVC: 0.336198 (0.015470)\n",
      "Logistic Regression: 0.288108 (0.011788)\n",
      "Decision Tree: 0.792923 (0.008183)\n",
      "Naive Bayes: 0.310651 (0.008917)\n",
      "KNearest Neighbors: 0.568397 (0.010399)\n",
      "RandomForestClassifier: 0.901521 (0.006072)\n"
     ]
    }
   ],
   "source": [
    "results = []\n",
    "names = []\n",
    "for name, model in models:\n",
    "    kfold = KFold(n_splits=num_folds, random_state=31,shuffle=True)\n",
    "    cv_results = cross_val_score(model, x_train, y_train, cv=kfold, scoring=scoring)\n",
    "    results.append(cv_results)\n",
    "    names.append(name)\n",
    "    msg = \"%s: %f (%f)\" % (name, cv_results.mean(), cv_results.std())\n",
    "    print(msg)"
   ]
  },
  {
   "cell_type": "code",
   "execution_count": 102,
   "metadata": {},
   "outputs": [],
   "source": [
    "#we have achived a accuracy score of 90.1%"
   ]
  },
  {
   "cell_type": "code",
   "execution_count": 103,
   "metadata": {},
   "outputs": [],
   "source": [
    "#hypertuning"
   ]
  },
  {
   "cell_type": "code",
   "execution_count": 105,
   "metadata": {},
   "outputs": [],
   "source": [
    "#define models and parameters\n",
    "n_estimators = [10, 100]\n",
    "max_features = ['sqrt', 'log2']\n",
    "param_grid = dict(n_estimators=n_estimators,max_features=max_features)\n",
    "model = RandomForestClassifier()\n",
    "kfold = KFold(n_splits=num_folds, random_state=7,shuffle=True)\n",
    "grid = GridSearchCV(estimator=model, param_grid=param_grid, scoring=scoring, cv=kfold)\n",
    "grid_result = grid.fit(x_train, y_train)"
   ]
  },
  {
   "cell_type": "code",
   "execution_count": 106,
   "metadata": {},
   "outputs": [
    {
     "name": "stdout",
     "output_type": "stream",
     "text": [
      "Best: 0.902360 using {'max_features': 'sqrt', 'n_estimators': 100}\n",
      "#3 0.866626 (0.012257) with: {'max_features': 'sqrt', 'n_estimators': 10}\n",
      "#1 0.902360 (0.010985) with: {'max_features': 'sqrt', 'n_estimators': 100}\n",
      "#4 0.864043 (0.007896) with: {'max_features': 'log2', 'n_estimators': 10}\n",
      "#2 0.899567 (0.009817) with: {'max_features': 'log2', 'n_estimators': 100}\n"
     ]
    }
   ],
   "source": [
    "print(\"Best: %f using %s\" % (grid_result.best_score_, grid_result.best_params_))\n",
    "means = grid_result.cv_results_['mean_test_score']\n",
    "stds = grid_result.cv_results_['std_test_score']\n",
    "params = grid_result.cv_results_['params']\n",
    "ranks = grid_result.cv_results_['rank_test_score']\n",
    "for mean, stdev, param, rank in zip(means, stds, params, ranks):\n",
    "    print(\"#%d %f (%f) with: %r\" % (rank, mean, stdev, param))"
   ]
  },
  {
   "cell_type": "code",
   "execution_count": 107,
   "metadata": {},
   "outputs": [],
   "source": [
    "#model is performing best at #1 0.902360 (0.010985) with: {'max_features': 'sqrt', 'n_estimators': 100}"
   ]
  },
  {
   "cell_type": "code",
   "execution_count": 108,
   "metadata": {},
   "outputs": [],
   "source": [
    "#Boosting Techniques"
   ]
  },
  {
   "cell_type": "code",
   "execution_count": 109,
   "metadata": {},
   "outputs": [
    {
     "name": "stdout",
     "output_type": "stream",
     "text": [
      "[AdaBoostClassifier()]:\n",
      "0.06754116662015071\n",
      "[[ 0  0  0 ...  0  0  0]\n",
      " [ 0  0  0 ... 28  0  0]\n",
      " [ 0  0  0 ...  1  0  0]\n",
      " ...\n",
      " [ 0  0  0 ... 22  0  0]\n",
      " [ 0  0  0 ...  0  0  0]\n",
      " [ 0  0  0 ...  7  0 32]]\n",
      "****************************************************************\n",
      "\n",
      "\n",
      "[AdaBoostClassifier(), GradientBoostingClassifier()]:\n",
      "0.8291934133407759\n",
      "[[46  0  0 ...  0  0  0]\n",
      " [ 0 47  0 ...  2  0  0]\n",
      " [ 0  0 62 ...  0  0  0]\n",
      " ...\n",
      " [ 0  1  0 ... 40  0  0]\n",
      " [ 0  0  0 ...  0 65  0]\n",
      " [ 0  1  1 ...  0  0 58]]\n",
      "****************************************************************\n",
      "\n",
      "\n",
      "[AdaBoostClassifier(), GradientBoostingClassifier(), BaggingClassifier()]:\n",
      "0.8576611777839799\n",
      "[[45  0  0 ...  0  0  0]\n",
      " [ 0 54  0 ...  0  0  0]\n",
      " [ 0  0 64 ...  0  0  0]\n",
      " ...\n",
      " [ 0  1  0 ... 37  0  0]\n",
      " [ 0  0  0 ...  0 65  0]\n",
      " [ 1  1  1 ...  0  0 56]]\n",
      "****************************************************************\n",
      "\n",
      "\n",
      "[AdaBoostClassifier(), GradientBoostingClassifier(), BaggingClassifier(), ExtraTreesClassifier()]:\n",
      "0.908735696343846\n",
      "[[48  0  0 ...  0  0  0]\n",
      " [ 0 53  0 ...  0  0  0]\n",
      " [ 0  0 64 ...  0  0  0]\n",
      " ...\n",
      " [ 1  0  0 ... 39  0  0]\n",
      " [ 0  0  0 ...  0 68  0]\n",
      " [ 0  1  1 ...  0  0 65]]\n",
      "****************************************************************\n",
      "\n",
      "\n"
     ]
    }
   ],
   "source": [
    "models= [AdaBoostClassifier(),GradientBoostingClassifier(),BaggingClassifier(),ExtraTreesClassifier()]\n",
    "names = []\n",
    "\n",
    "for m in models:\n",
    "    m.fit(x_train, y_train)\n",
    "    m.score(x_train, y_train)\n",
    "    predm = m.predict(x_test)\n",
    "    names.append(m)\n",
    "    msg = \"%s:\" % (names)\n",
    "    print(msg)\n",
    "    print(accuracy_score(y_test, predm)) \n",
    "    print(confusion_matrix(y_test, predm))\n",
    "    print(\"****************************************************************\")\n",
    "    print(\"\\n\")"
   ]
  },
  {
   "cell_type": "code",
   "execution_count": 110,
   "metadata": {},
   "outputs": [
    {
     "data": {
      "text/plain": [
       "ExtraTreesClassifier()"
      ]
     },
     "execution_count": 110,
     "metadata": {},
     "output_type": "execute_result"
    }
   ],
   "source": [
    "model = ExtraTreesClassifier(n_estimators=100)\n",
    "model.fit(x_train, y_train)"
   ]
  },
  {
   "cell_type": "code",
   "execution_count": 111,
   "metadata": {},
   "outputs": [
    {
     "name": "stdout",
     "output_type": "stream",
     "text": [
      "0.9065029305051633\n",
      "[[48  0  0 ...  0  0  0]\n",
      " [ 0 49  0 ...  0  0  0]\n",
      " [ 0  0 65 ...  0  0  0]\n",
      " ...\n",
      " [ 1  0  0 ... 43  0  0]\n",
      " [ 0  0  0 ...  0 68  0]\n",
      " [ 0  1  1 ...  0  0 64]]\n",
      "              precision    recall  f1-score   support\n",
      "\n",
      "           0       0.77      0.98      0.86        49\n",
      "           1       0.89      0.79      0.84        62\n",
      "           2       0.94      1.00      0.97        65\n",
      "           3       0.86      0.92      0.89        53\n",
      "           4       0.93      0.96      0.94        79\n",
      "           5       0.90      0.81      0.85        68\n",
      "           6       0.96      0.99      0.97        72\n",
      "           7       0.95      0.90      0.93        70\n",
      "           8       0.97      1.00      0.99        73\n",
      "           9       0.79      0.88      0.83        60\n",
      "          10       0.89      0.83      0.86        70\n",
      "          11       0.90      0.91      0.91        70\n",
      "          12       0.96      0.91      0.93        74\n",
      "          13       0.82      0.82      0.82        68\n",
      "          14       0.89      0.98      0.93        64\n",
      "          15       0.97      0.99      0.98        69\n",
      "          16       0.94      0.95      0.95        66\n",
      "          17       0.90      0.88      0.89        72\n",
      "          18       0.85      0.88      0.87        60\n",
      "          19       0.86      0.91      0.88        66\n",
      "          20       0.91      0.93      0.92        74\n",
      "          21       0.84      0.88      0.86        59\n",
      "          22       0.99      0.99      0.99        71\n",
      "          23       0.93      0.92      0.92        73\n",
      "          24       0.80      0.70      0.74        73\n",
      "          25       0.98      1.00      0.99        58\n",
      "          26       0.80      0.91      0.85        58\n",
      "          27       0.86      0.88      0.87        57\n",
      "          28       0.99      0.97      0.98        76\n",
      "          29       0.99      0.99      0.99        69\n",
      "          30       0.93      0.93      0.93        71\n",
      "          31       0.76      0.77      0.77        62\n",
      "          32       0.98      0.91      0.94        66\n",
      "          33       0.94      0.91      0.92        79\n",
      "          34       0.99      0.93      0.96        76\n",
      "          35       0.99      0.99      0.99        69\n",
      "          36       0.89      0.87      0.88        67\n",
      "          37       0.89      0.94      0.91        62\n",
      "          38       0.93      0.95      0.94        81\n",
      "          39       0.88      0.91      0.90        58\n",
      "          40       0.84      0.91      0.87        68\n",
      "          41       0.94      0.83      0.88        70\n",
      "          42       0.94      0.97      0.95        65\n",
      "          43       0.89      0.93      0.91        61\n",
      "          44       0.97      0.93      0.95        73\n",
      "          45       0.90      0.96      0.93        69\n",
      "          46       1.00      0.95      0.98        65\n",
      "          47       0.91      0.87      0.89        70\n",
      "          48       0.89      0.79      0.84        81\n",
      "          49       0.91      0.85      0.88        61\n",
      "          50       0.63      0.66      0.65        65\n",
      "          51       1.00      0.96      0.98        71\n",
      "          52       0.93      0.85      0.89        75\n",
      "\n",
      "    accuracy                           0.91      3583\n",
      "   macro avg       0.91      0.91      0.90      3583\n",
      "weighted avg       0.91      0.91      0.91      3583\n",
      "\n"
     ]
    }
   ],
   "source": [
    "predictions = model.predict(x_test)\n",
    "print(accuracy_score(y_test, predictions)) \n",
    "print(confusion_matrix(y_test, predictions))\n",
    "print(classification_report(y_test, predictions))"
   ]
  },
  {
   "cell_type": "code",
   "execution_count": 112,
   "metadata": {},
   "outputs": [
    {
     "data": {
      "text/html": [
       "<div>\n",
       "<style scoped>\n",
       "    .dataframe tbody tr th:only-of-type {\n",
       "        vertical-align: middle;\n",
       "    }\n",
       "\n",
       "    .dataframe tbody tr th {\n",
       "        vertical-align: top;\n",
       "    }\n",
       "\n",
       "    .dataframe thead th {\n",
       "        text-align: right;\n",
       "    }\n",
       "</style>\n",
       "<table border=\"1\" class=\"dataframe\">\n",
       "  <thead>\n",
       "    <tr style=\"text-align: right;\">\n",
       "      <th></th>\n",
       "      <th>Original Region</th>\n",
       "      <th>Predicted Region</th>\n",
       "    </tr>\n",
       "    <tr>\n",
       "      <th>Date</th>\n",
       "      <th></th>\n",
       "      <th></th>\n",
       "    </tr>\n",
       "  </thead>\n",
       "  <tbody>\n",
       "    <tr>\n",
       "      <th>2016-10-30</th>\n",
       "      <td>0</td>\n",
       "      <td>0</td>\n",
       "    </tr>\n",
       "    <tr>\n",
       "      <th>2016-09-25</th>\n",
       "      <td>50</td>\n",
       "      <td>0</td>\n",
       "    </tr>\n",
       "    <tr>\n",
       "      <th>2017-05-07</th>\n",
       "      <td>8</td>\n",
       "      <td>8</td>\n",
       "    </tr>\n",
       "    <tr>\n",
       "      <th>2018-02-18</th>\n",
       "      <td>4</td>\n",
       "      <td>4</td>\n",
       "    </tr>\n",
       "    <tr>\n",
       "      <th>2015-08-16</th>\n",
       "      <td>16</td>\n",
       "      <td>16</td>\n",
       "    </tr>\n",
       "    <tr>\n",
       "      <th>...</th>\n",
       "      <td>...</td>\n",
       "      <td>...</td>\n",
       "    </tr>\n",
       "    <tr>\n",
       "      <th>2017-01-29</th>\n",
       "      <td>9</td>\n",
       "      <td>9</td>\n",
       "    </tr>\n",
       "    <tr>\n",
       "      <th>2017-12-17</th>\n",
       "      <td>34</td>\n",
       "      <td>34</td>\n",
       "    </tr>\n",
       "    <tr>\n",
       "      <th>2015-08-23</th>\n",
       "      <td>38</td>\n",
       "      <td>38</td>\n",
       "    </tr>\n",
       "    <tr>\n",
       "      <th>2017-11-05</th>\n",
       "      <td>49</td>\n",
       "      <td>27</td>\n",
       "    </tr>\n",
       "    <tr>\n",
       "      <th>2016-02-14</th>\n",
       "      <td>29</td>\n",
       "      <td>29</td>\n",
       "    </tr>\n",
       "  </tbody>\n",
       "</table>\n",
       "<p>3583 rows × 2 columns</p>\n",
       "</div>"
      ],
      "text/plain": [
       "            Original Region  Predicted Region\n",
       "Date                                         \n",
       "2016-10-30                0                 0\n",
       "2016-09-25               50                 0\n",
       "2017-05-07                8                 8\n",
       "2018-02-18                4                 4\n",
       "2015-08-16               16                16\n",
       "...                     ...               ...\n",
       "2017-01-29                9                 9\n",
       "2017-12-17               34                34\n",
       "2015-08-23               38                38\n",
       "2017-11-05               49                27\n",
       "2016-02-14               29                29\n",
       "\n",
       "[3583 rows x 2 columns]"
      ]
     },
     "execution_count": 112,
     "metadata": {},
     "output_type": "execute_result"
    }
   ],
   "source": [
    "df_pred=pd.DataFrame({\"Original Region\":y_test,\"Predicted Region\":predictions})\n",
    "df_pred"
   ]
  },
  {
   "cell_type": "code",
   "execution_count": 113,
   "metadata": {},
   "outputs": [
    {
     "data": {
      "text/plain": [
       "['Avacadoregion.pkl']"
      ]
     },
     "execution_count": 113,
     "metadata": {},
     "output_type": "execute_result"
    }
   ],
   "source": [
    "import joblib\n",
    "joblib.dump(model,\"Avacadoregion.pkl\")"
   ]
  },
  {
   "cell_type": "code",
   "execution_count": null,
   "metadata": {},
   "outputs": [],
   "source": [
    "#AveragePrice of Avacaods\n",
    "We have been able to achive a\n",
    "R2 Score of  87.3%\n",
    "Cross val Score: 20.5 %\n",
    "Using ExtraTreesRegressor for predicting the Average Price of Avacados\n",
    "\n",
    "#Region Avacados Belong\n",
    "We achived an Accuracy Score of 90%\n",
    "Using ExtraTreesClassifier for Predicting the region the Avacados belongs to "
   ]
  }
 ],
 "metadata": {
  "kernelspec": {
   "display_name": "Python 3",
   "language": "python",
   "name": "python3"
  },
  "language_info": {
   "codemirror_mode": {
    "name": "ipython",
    "version": 3
   },
   "file_extension": ".py",
   "mimetype": "text/x-python",
   "name": "python",
   "nbconvert_exporter": "python",
   "pygments_lexer": "ipython3",
   "version": "3.8.3"
  }
 },
 "nbformat": 4,
 "nbformat_minor": 4
}
